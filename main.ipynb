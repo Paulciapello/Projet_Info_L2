{
 "cells": [
  {
   "cell_type": "markdown",
   "id": "872e1400-1a32-40fb-9e89-ea763a981a1d",
   "metadata": {},
   "source": [
    "# Caractéristiques des moteurs d'avion à pistons\n",
    "***\n",
    "\n",
    "## Objectif:\n",
    "\n",
    "   Dans ce projet nous allons analyser un ensemble de données des caractéristiques des moteurs d'avions et en tirer des conclusions. Nous allons nous concentrer uniquement sur le moteur à piston (Les données des autre feuilles types moteur d'avion à réaction ou moteur de fuséee ne sont pas assez enrichi).\n",
    "\n",
    "## Déroulé du projet: \n",
    "\n",
    "   1) Dans un premier temps nous allons comprendre le sujet etablir les notions et definir notre plan de deroulement du projet.\n",
    "   2) Dans un second temps nous allons réorginer le fichier excel et le convertir en unité international.\n",
    "   3) Enfin Dans un troisiéme temps nous annalyserons le fichier a l'aide de graphique ou d'outil d'analyse pour en tirez des conclusion.\n",
    "\n"
   ]
  },
  {
   "cell_type": "markdown",
   "id": "70d460d6-9b01-4ff2-9c1b-cb3c398b1fce",
   "metadata": {},
   "source": [
    "# Partie 1: Compréhension du sujet:\n",
    "***\n",
    "Les moteurs d'avions sont des éléments clés de tout avion. Ils sont responsables de fournir la poussée nécessaire pour propulser l'avion dans les airs et le maintenir en mouvement. Voici un résumé des différents types de moteurs d'avions :\n",
    "Le moteur à piston utilisé en aéronautique est le plus souvent un moteur thermique à quatre temps nous qllons nous intér2sse a ceux la\n",
    "\n",
    " Voici un exemple d'un moteru piston 4 temps:\n",
    " \n",
    " ![Moteur 4 temps cycle](cycle-image-4-temps.png)\n",
    " \n",
    " \n",
    " Les avions sont donc constitué de ce type de moteur mais avec plusieur cylindres disposé en plusieur configurations differente:\n",
    "  tel que les moteurs d'avion en etoile :\n",
    "  \n",
    "  ![Texte alternatif de l'image](chemin/vers/l'image.png)\n",
    "  \n",
    "  le moteur en v : \n",
    "  \n",
    "  ![Texte alternatif de l'image](chemin/vers/l'image.png)\n",
    "  \n",
    "  et plein d'autre: \n",
    "  \n",
    "  \n",
    "  \n",
    "  Enfin pour comprendre parfatiement le sujet il faut comprendre quelles sont les caracteristique clé qui influe sur la performance d'un moteur davions , il faut qi'l soit leger et puissant nous allons donc decrire toute les caracteristique du fichier importer :\n",
    "  et supprimer ons celle qui ne seront pa sutile :\n",
    "  \n",
    "  \n",
    "-[x]Tâche accomplie   \n",
    "-[ ]Tâche en cours      \n",
    "-[ ]Autre tâche à faire\n",
    "  \n",
    "  \n",
    "  \n",
    "  "
   ]
  },
  {
   "cell_type": "markdown",
   "id": "ea6cd8b2-71b2-4c5f-bc6f-6a8ff942640a",
   "metadata": {},
   "source": [
    "# Partie 2: Imporation du fichier et rorganisation:\n",
    "***\n",
    "   Avant toute chose nous avons du installer nos interpreteur python et nos terminal a l'aide de gitbash, enfin nous avons crée     un repository sur github pour travailler en collaborations voici le liens:   [Projet_L2_Info](https://github.com/Paulciapello/Projet_Info_L2.git)\n",
    "    \n",
    "   Nous avons decidez d'utiliser l'interpreter jupyter pour sa simpliciter et la possibilité de crée un rapport en lui meme. \n"
   ]
  },
  {
   "cell_type": "markdown",
   "id": "1a8196e2-00f3-44f7-b77a-9282de53d6c5",
   "metadata": {},
   "source": [
    "#### Import du fichier:"
   ]
  },
  {
   "cell_type": "code",
   "execution_count": 1,
   "id": "365bf99a-54d3-472d-971c-1ab477f197d2",
   "metadata": {
    "tags": []
   },
   "outputs": [],
   "source": [
    "import pandas as pd\n",
    "import matplotlib\n",
    "import matplotlib.pyplot as plt    # importations des modules utiles pour ce projet.\n",
    "import numpy as np\n",
    "\n",
    "df = pd.read_excel('Engine.xls')"
   ]
  },
  {
   "cell_type": "markdown",
   "id": "c769fe0f-1440-4c59-9b84-b10b2a823c69",
   "metadata": {},
   "source": [
    "#### Ajout, suppression, renommage et réorganisation des colonnes, lignes"
   ]
  },
  {
   "cell_type": "code",
   "execution_count": 2,
   "id": "275d4081-51d7-4388-a742-385f5d673a4a",
   "metadata": {
    "tags": []
   },
   "outputs": [],
   "source": [
    "df = df.set_axis(df.iloc[2], axis='columns')      # mise en place de l'en-tête\n",
    "df.drop([2],inplace=True)  \n",
    "\n",
    "df.columns.values[11] = 'Cylindrées_cm^3'   \n",
    "df.columns.values[13] = 'Nb_Cylindres'     \n",
    "df.columns.values[15] = 'Config_Moteurs'   # renommage des noms de colonnes doublé "
   ]
  },
  {
   "cell_type": "markdown",
   "id": "e5961e9e-3865-4beb-bb46-f07c3b8bdb48",
   "metadata": {
    "tags": []
   },
   "source": [
    "##### Supression colonnes, lignes:"
   ]
  },
  {
   "cell_type": "code",
   "execution_count": 3,
   "id": "9a2cff4d-6158-4543-b3c5-d8b6b7585aaf",
   "metadata": {
    "tags": []
   },
   "outputs": [],
   "source": [
    "df.drop(df.columns[27:], axis=1, inplace=True) # suppression des colonnes vides"
   ]
  },
  {
   "cell_type": "code",
   "execution_count": 4,
   "id": "27c3a2aa-f0ec-4bd0-a1e8-2c11ad79900c",
   "metadata": {
    "tags": []
   },
   "outputs": [],
   "source": [
    "# suppression des colonnes inutiles\n",
    "df.drop(['Manufacturer', 'Ordered', 'Delivered',\n",
    "         'Modified','Cancelled', 'Test','Manufacturer Model',\n",
    "         'Rows','IN^3','Number','Exhaust','Intake','Arrangement','Gear Ratio'], axis=1, inplace=True)  "
   ]
  },
  {
   "cell_type": "code",
   "execution_count": 5,
   "id": "db7f6389-6250-401c-a31d-935d23dc76cf",
   "metadata": {
    "tags": []
   },
   "outputs": [],
   "source": [
    "df.dropna(thresh=3, inplace=True)    # Supression de ligne si il y a moins de 3 valeurs non vide "
   ]
  },
  {
   "cell_type": "markdown",
   "id": "258bee3b-9741-4fdc-900f-f74d5831f465",
   "metadata": {
    "tags": []
   },
   "source": [
    "##### Renommages colonnes"
   ]
  },
  {
   "cell_type": "code",
   "execution_count": 6,
   "id": "5be4a98e-dd78-4e2d-8cb5-68beeae52fe9",
   "metadata": {},
   "outputs": [],
   "source": [
    "df.rename(columns = {'Type' : 'Nom_moteur',\n",
    "                    'Bore' : 'Alesage_mm',\n",
    "                    'Stroke' : 'Course_Piston_mm',\n",
    "                     'Cooling' : 'Refroidissement',\n",
    "                     'CR' : 'Taux de compression',\n",
    "                     'Weight' : 'Poids_Moteurs_kg',\n",
    "                     'HP' : 'Puissance_Moteurs_kwatt',\n",
    "                     '@ RPM' : 'Tours_minutes',\n",
    "                     'Aircraft' : 'Aéronef',\n",
    "                      }, inplace=True)"
   ]
  },
  {
   "cell_type": "markdown",
   "id": "ec5b5ade-d475-4e10-8039-e901a9ab9b57",
   "metadata": {
    "tags": []
   },
   "source": [
    "#### Reorganisation colonnes"
   ]
  },
  {
   "cell_type": "code",
   "execution_count": 7,
   "id": "69c9d51a-f147-49f4-8b5b-1f0c24c24961",
   "metadata": {},
   "outputs": [],
   "source": [
    "reorga_colonnes = ['Nom_moteur','Aéronef','Puissance_Moteurs_kwatt',\n",
    "                   'Poids_Moteurs_kg','Cylindrées_cm^3',\n",
    "                   'Taux de compression','Alesage_mm',\n",
    "                   'Course_Piston_mm','Tours_minutes',\n",
    "                   'Config_Moteurs','Nb_Cylindres','Refroidissement'\n",
    "                  ]\n",
    "df = df[reorga_colonnes]    "
   ]
  },
  {
   "cell_type": "markdown",
   "id": "2b51cda9-56ae-4d81-a17b-a2cd55388b28",
   "metadata": {},
   "source": [
    "### Conversion données"
   ]
  },
  {
   "cell_type": "markdown",
   "id": "9918e375-22cf-415a-9bf1-2f52cea4b996",
   "metadata": {
    "tags": []
   },
   "source": [
    "##### Création de fonctions de convertions"
   ]
  },
  {
   "cell_type": "code",
   "execution_count": 8,
   "id": "c5c7c907-5624-4639-81b2-580daabce694",
   "metadata": {
    "tags": []
   },
   "outputs": [],
   "source": [
    "def inch_to_mm(inch):\n",
    "    \"\"\" \n",
    "    convertion pouce en mm \n",
    "    \"\"\"\n",
    "    return inch * 25.4\n",
    "\n",
    "def in3_to_cm3(in3):\n",
    "    \"\"\" \n",
    "    convertion poucecube en cmcube\n",
    "    \"\"\"\n",
    "    return in3 * 16.39\n",
    "\n",
    "def lbs_to_kg(lbs):\n",
    "    \"\"\" \n",
    "    convertion livre en kg\n",
    "    \"\"\"\n",
    "    return lbs * 0.45359237\n",
    "\n",
    "def ch_to_kwatt(ch):\n",
    "    \"\"\" \n",
    "    convertion chevaux en kwatt\n",
    "    \"\"\"\n",
    "    return ch * 0.735499\n",
    "\n"
   ]
  },
  {
   "cell_type": "markdown",
   "id": "180ec789-5d7a-4b3b-8085-9a1729a3687c",
   "metadata": {
    "tags": []
   },
   "source": [
    "##### Convertion colonnes en float"
   ]
  },
  {
   "cell_type": "code",
   "execution_count": 9,
   "id": "4e89045d-72aa-4f0d-b2e3-383f2f37d07a",
   "metadata": {
    "tags": []
   },
   "outputs": [],
   "source": [
    "# variable des colonnes que l'on veux convertir en float\n",
    "cols_to_convert = ['Puissance_Moteurs_kwatt','Alesage_mm','Course_Piston_mm',\n",
    "                   'Poids_Moteurs_kg','Cylindrées_cm^3','Taux de compression',\n",
    "                  'Tours_minutes','Nb_Cylindres']\n",
    "\n",
    "#Pour convertir les colonnes contenant des str en float (utilisation de chat gpt pour la fonction applymap(...)\n",
    "df[cols_to_convert] = df[cols_to_convert].applymap(lambda x: float(x) if str(x).replace('.','',1).isdigit() else None)\n",
    "df[cols_to_convert] = df[cols_to_convert].astype(float) #convertion en float"
   ]
  },
  {
   "cell_type": "markdown",
   "id": "530162db-8857-4b34-b6f5-aaab12a94262",
   "metadata": {
    "tags": []
   },
   "source": [
    "##### Convertions colonnes en unité international"
   ]
  },
  {
   "cell_type": "code",
   "execution_count": 13,
   "id": "4855fa05-2fde-459e-9348-64047a9a34df",
   "metadata": {
    "tags": []
   },
   "outputs": [
    {
     "data": {
      "text/html": [
       "<div>\n",
       "<style scoped>\n",
       "    .dataframe tbody tr th:only-of-type {\n",
       "        vertical-align: middle;\n",
       "    }\n",
       "\n",
       "    .dataframe tbody tr th {\n",
       "        vertical-align: top;\n",
       "    }\n",
       "\n",
       "    .dataframe thead th {\n",
       "        text-align: right;\n",
       "    }\n",
       "</style>\n",
       "<table border=\"1\" class=\"dataframe\">\n",
       "  <thead>\n",
       "    <tr style=\"text-align: right;\">\n",
       "      <th>2</th>\n",
       "      <th>Nom_moteur</th>\n",
       "      <th>Aéronef</th>\n",
       "      <th>Puissance_Moteurs_kwatt</th>\n",
       "      <th>Poids_Moteurs_kg</th>\n",
       "      <th>Cylindrées_cm^3</th>\n",
       "      <th>Taux de compression</th>\n",
       "      <th>Alesage_mm</th>\n",
       "      <th>Course_Piston_mm</th>\n",
       "      <th>Tours_minutes</th>\n",
       "      <th>Config_Moteurs</th>\n",
       "      <th>Nb_Cylindres</th>\n",
       "      <th>Refroidissement</th>\n",
       "    </tr>\n",
       "  </thead>\n",
       "  <tbody>\n",
       "    <tr>\n",
       "      <th>5</th>\n",
       "      <td>NaN</td>\n",
       "      <td>NaN</td>\n",
       "      <td>189.335573</td>\n",
       "      <td>145.050957</td>\n",
       "      <td>311471.570356</td>\n",
       "      <td>NaN</td>\n",
       "      <td>3048.00</td>\n",
       "      <td>3556.00</td>\n",
       "      <td>2000.0</td>\n",
       "      <td>Y</td>\n",
       "      <td>12.0</td>\n",
       "      <td>L</td>\n",
       "    </tr>\n",
       "    <tr>\n",
       "      <th>6</th>\n",
       "      <td>Dragonfly I</td>\n",
       "      <td>(Clark Pursuit)</td>\n",
       "      <td>173.106809</td>\n",
       "      <td>134.969401</td>\n",
       "      <td>373361.070922</td>\n",
       "      <td>4.42</td>\n",
       "      <td>3548.38</td>\n",
       "      <td>4193.54</td>\n",
       "      <td>1650.0</td>\n",
       "      <td>R</td>\n",
       "      <td>9.0</td>\n",
       "      <td>A</td>\n",
       "    </tr>\n",
       "    <tr>\n",
       "      <th>7</th>\n",
       "      <td>Dragonfly IA</td>\n",
       "      <td>Dragon</td>\n",
       "      <td>194.745160</td>\n",
       "      <td>NaN</td>\n",
       "      <td>373361.070922</td>\n",
       "      <td>4.42</td>\n",
       "      <td>3548.38</td>\n",
       "      <td>4193.54</td>\n",
       "      <td>NaN</td>\n",
       "      <td>R</td>\n",
       "      <td>9.0</td>\n",
       "      <td>A</td>\n",
       "    </tr>\n",
       "    <tr>\n",
       "      <th>8</th>\n",
       "      <td>Gnat</td>\n",
       "      <td>Martin K.III</td>\n",
       "      <td>24.343145</td>\n",
       "      <td>16.871175</td>\n",
       "      <td>37388.948426</td>\n",
       "      <td>3.80</td>\n",
       "      <td>2794.00</td>\n",
       "      <td>3048.00</td>\n",
       "      <td>1920.0</td>\n",
       "      <td>O</td>\n",
       "      <td>2.0</td>\n",
       "      <td>A</td>\n",
       "    </tr>\n",
       "    <tr>\n",
       "      <th>9</th>\n",
       "      <td>Mosquito</td>\n",
       "      <td>NaN</td>\n",
       "      <td>67.619847</td>\n",
       "      <td>37.034287</td>\n",
       "      <td>83661.634597</td>\n",
       "      <td>4.05</td>\n",
       "      <td>2413.00</td>\n",
       "      <td>3048.00</td>\n",
       "      <td>1700.0</td>\n",
       "      <td>R</td>\n",
       "      <td>6.0</td>\n",
       "      <td>A</td>\n",
       "    </tr>\n",
       "  </tbody>\n",
       "</table>\n",
       "</div>"
      ],
      "text/plain": [
       "2    Nom_moteur          Aéronef  Puissance_Moteurs_kwatt  Poids_Moteurs_kg  \\\n",
       "5           NaN              NaN               189.335573        145.050957   \n",
       "6   Dragonfly I  (Clark Pursuit)               173.106809        134.969401   \n",
       "7  Dragonfly IA           Dragon               194.745160               NaN   \n",
       "8          Gnat     Martin K.III                24.343145         16.871175   \n",
       "9      Mosquito              NaN                67.619847         37.034287   \n",
       "\n",
       "2  Cylindrées_cm^3  Taux de compression  Alesage_mm  Course_Piston_mm  \\\n",
       "5    311471.570356                  NaN     3048.00           3556.00   \n",
       "6    373361.070922                 4.42     3548.38           4193.54   \n",
       "7    373361.070922                 4.42     3548.38           4193.54   \n",
       "8     37388.948426                 3.80     2794.00           3048.00   \n",
       "9     83661.634597                 4.05     2413.00           3048.00   \n",
       "\n",
       "2  Tours_minutes Config_Moteurs  Nb_Cylindres Refroidissement  \n",
       "5         2000.0              Y          12.0               L  \n",
       "6         1650.0              R           9.0               A  \n",
       "7            NaN              R           9.0               A  \n",
       "8         1920.0              O           2.0               A  \n",
       "9         1700.0              R           6.0               A  "
      ]
     },
     "execution_count": 13,
     "metadata": {},
     "output_type": "execute_result"
    }
   ],
   "source": [
    "cols_to_inch_to_mm = ['Alesage_mm','Course_Piston_mm']\n",
    "\n",
    "# Convertion des colonnes en unitées internationales\n",
    "df[cols_to_inch_to_mm] = df[cols_to_inch_to_mm].apply(inch_to_mm)\n",
    "df['Poids_Moteurs_kg'] = df['Poids_Moteurs_kg'].apply(lbs_to_kg)\n",
    "df['Puissance_Moteurs_kwatt'] = df['Puissance_Moteurs_kwatt'].apply(ch_to_kwatt)\n",
    "df['Cylindrées_cm^3'] = df['Cylindrées_cm^3'].apply(in3_to_cm3)\n",
    "\n",
    "df.head()"
   ]
  },
  {
   "cell_type": "markdown",
   "id": "cf121b70-cf1e-4e52-b034-558fe130a75e",
   "metadata": {},
   "source": [
    "Nous avons donc réorganiser les colonnes avec les unités qu'il convient d'avoir et supprimer les colonne inutile ou avec trop peux de donner.\n",
    "Par la suite nous pouvons donc analyser c'est donner pour en tirer des conclusions."
   ]
  },
  {
   "cell_type": "markdown",
   "id": "f628c2c1-43c9-4fe3-b755-19922adcd1de",
   "metadata": {},
   "source": [
    "pour commencer nous allons utiliser la fonction describe pour decrire sur une vu d'ensmelbe les données"
   ]
  },
  {
   "cell_type": "code",
   "execution_count": 14,
   "id": "80483563-20b6-4bf4-8a46-dc0f87bb390a",
   "metadata": {
    "tags": []
   },
   "outputs": [
    {
     "data": {
      "text/html": [
       "<div>\n",
       "<style scoped>\n",
       "    .dataframe tbody tr th:only-of-type {\n",
       "        vertical-align: middle;\n",
       "    }\n",
       "\n",
       "    .dataframe tbody tr th {\n",
       "        vertical-align: top;\n",
       "    }\n",
       "\n",
       "    .dataframe thead th {\n",
       "        text-align: right;\n",
       "    }\n",
       "</style>\n",
       "<table border=\"1\" class=\"dataframe\">\n",
       "  <thead>\n",
       "    <tr style=\"text-align: right;\">\n",
       "      <th>2</th>\n",
       "      <th>Puissance_Moteurs_kwatt</th>\n",
       "      <th>Poids_Moteurs_kg</th>\n",
       "      <th>Cylindrées_cm^3</th>\n",
       "      <th>Taux de compression</th>\n",
       "      <th>Alesage_mm</th>\n",
       "      <th>Course_Piston_mm</th>\n",
       "      <th>Tours_minutes</th>\n",
       "      <th>Nb_Cylindres</th>\n",
       "    </tr>\n",
       "  </thead>\n",
       "  <tbody>\n",
       "    <tr>\n",
       "      <th>count</th>\n",
       "      <td>1537.000000</td>\n",
       "      <td>247.000000</td>\n",
       "      <td>7.720000e+02</td>\n",
       "      <td>217.000000</td>\n",
       "      <td>733.000000</td>\n",
       "      <td>732.000000</td>\n",
       "      <td>326.000000</td>\n",
       "      <td>767.000000</td>\n",
       "    </tr>\n",
       "    <tr>\n",
       "      <th>mean</th>\n",
       "      <td>450.358478</td>\n",
       "      <td>149.029019</td>\n",
       "      <td>3.118773e+05</td>\n",
       "      <td>5.113461</td>\n",
       "      <td>3196.265299</td>\n",
       "      <td>3806.930518</td>\n",
       "      <td>1617.193252</td>\n",
       "      <td>9.576271</td>\n",
       "    </tr>\n",
       "    <tr>\n",
       "      <th>std</th>\n",
       "      <td>467.266001</td>\n",
       "      <td>73.951682</td>\n",
       "      <td>2.508636e+05</td>\n",
       "      <td>0.491518</td>\n",
       "      <td>493.970505</td>\n",
       "      <td>724.223110</td>\n",
       "      <td>386.169380</td>\n",
       "      <td>4.868142</td>\n",
       "    </tr>\n",
       "    <tr>\n",
       "      <th>min</th>\n",
       "      <td>3.245753</td>\n",
       "      <td>16.871175</td>\n",
       "      <td>0.000000e+00</td>\n",
       "      <td>3.750000</td>\n",
       "      <td>1451.610000</td>\n",
       "      <td>1367.739200</td>\n",
       "      <td>900.000000</td>\n",
       "      <td>1.000000</td>\n",
       "    </tr>\n",
       "    <tr>\n",
       "      <th>25%</th>\n",
       "      <td>113.601344</td>\n",
       "      <td>101.227051</td>\n",
       "      <td>1.476882e+05</td>\n",
       "      <td>4.760000</td>\n",
       "      <td>2903.220000</td>\n",
       "      <td>3306.445000</td>\n",
       "      <td>1400.000000</td>\n",
       "      <td>6.000000</td>\n",
       "    </tr>\n",
       "    <tr>\n",
       "      <th>50%</th>\n",
       "      <td>270.479390</td>\n",
       "      <td>131.574591</td>\n",
       "      <td>2.605156e+05</td>\n",
       "      <td>5.100000</td>\n",
       "      <td>3225.800000</td>\n",
       "      <td>3870.960000</td>\n",
       "      <td>1600.000000</td>\n",
       "      <td>9.000000</td>\n",
       "    </tr>\n",
       "    <tr>\n",
       "      <th>75%</th>\n",
       "      <td>649.150535</td>\n",
       "      <td>185.171434</td>\n",
       "      <td>4.411850e+05</td>\n",
       "      <td>5.420000</td>\n",
       "      <td>3548.380000</td>\n",
       "      <td>4318.000000</td>\n",
       "      <td>1800.000000</td>\n",
       "      <td>12.000000</td>\n",
       "    </tr>\n",
       "    <tr>\n",
       "      <th>max</th>\n",
       "      <td>2704.793895</td>\n",
       "      <td>460.871125</td>\n",
       "      <td>2.511544e+06</td>\n",
       "      <td>6.555000</td>\n",
       "      <td>5564.505000</td>\n",
       "      <td>5806.440000</td>\n",
       "      <td>6000.000000</td>\n",
       "      <td>42.000000</td>\n",
       "    </tr>\n",
       "  </tbody>\n",
       "</table>\n",
       "</div>"
      ],
      "text/plain": [
       "2      Puissance_Moteurs_kwatt  Poids_Moteurs_kg  Cylindrées_cm^3  \\\n",
       "count              1537.000000        247.000000     7.720000e+02   \n",
       "mean                450.358478        149.029019     3.118773e+05   \n",
       "std                 467.266001         73.951682     2.508636e+05   \n",
       "min                   3.245753         16.871175     0.000000e+00   \n",
       "25%                 113.601344        101.227051     1.476882e+05   \n",
       "50%                 270.479390        131.574591     2.605156e+05   \n",
       "75%                 649.150535        185.171434     4.411850e+05   \n",
       "max                2704.793895        460.871125     2.511544e+06   \n",
       "\n",
       "2      Taux de compression   Alesage_mm  Course_Piston_mm  Tours_minutes  \\\n",
       "count           217.000000   733.000000        732.000000     326.000000   \n",
       "mean              5.113461  3196.265299       3806.930518    1617.193252   \n",
       "std               0.491518   493.970505        724.223110     386.169380   \n",
       "min               3.750000  1451.610000       1367.739200     900.000000   \n",
       "25%               4.760000  2903.220000       3306.445000    1400.000000   \n",
       "50%               5.100000  3225.800000       3870.960000    1600.000000   \n",
       "75%               5.420000  3548.380000       4318.000000    1800.000000   \n",
       "max               6.555000  5564.505000       5806.440000    6000.000000   \n",
       "\n",
       "2      Nb_Cylindres  \n",
       "count    767.000000  \n",
       "mean       9.576271  \n",
       "std        4.868142  \n",
       "min        1.000000  \n",
       "25%        6.000000  \n",
       "50%        9.000000  \n",
       "75%       12.000000  \n",
       "max       42.000000  "
      ]
     },
     "execution_count": 14,
     "metadata": {},
     "output_type": "execute_result"
    }
   ],
   "source": [
    "df.describe()"
   ]
  },
  {
   "cell_type": "markdown",
   "id": "7daeebc4-2d26-4a2d-8114-2e75de78385c",
   "metadata": {},
   "source": [
    "Sur toute les valeurs numérique nous avons de nombreuse informations "
   ]
  },
  {
   "cell_type": "code",
   "execution_count": 11,
   "id": "c0a9c590-cd28-4b20-b562-aeecfbda8a8c",
   "metadata": {
    "tags": []
   },
   "outputs": [
    {
     "data": {
      "text/plain": [
       "<Axes: xlabel='Refroidissement'>"
      ]
     },
     "execution_count": 11,
     "metadata": {},
     "output_type": "execute_result"
    },
    {
     "data": {
      "image/png": "[encoded data removed]",
      "text/plain": [
       "<Figure size 640x480 with 1 Axes>"
      ]
     },
     "metadata": {},
     "output_type": "display_data"
    }
   ],
   "source": [
    "df.groupby('Refroidissement')['Puissance_Moteurs_kwatt'].mean().plot.bar()"
   ]
  },
  {
   "cell_type": "code",
   "execution_count": 12,
   "id": "c5d2b762-58bb-4ef0-b8c9-5ae4a064918c",
   "metadata": {
    "tags": []
   },
   "outputs": [
    {
     "data": {
      "text/plain": [
       "<matplotlib.collections.PathCollection at 0x1b15f0e17d0>"
      ]
     },
     "execution_count": 12,
     "metadata": {},
     "output_type": "execute_result"
    },
    {
     "data": {
      "image/png": "[encoded data removed]",
      "text/plain": [
       "<Figure size 640x480 with 1 Axes>"
      ]
     },
     "metadata": {},
     "output_type": "display_data"
    }
   ],
   "source": [
    "plt.scatter(df['Puissance_Moteurs_kwatt'],df['Cylindrées_cm^3'])"
   ]
  },
  {
   "cell_type": "code",
   "execution_count": null,
   "id": "53f8ea9a-b594-44e8-ac2f-93ef464267c8",
   "metadata": {},
   "outputs": [],
   "source": []
  }
 ],
 "metadata": {
  "kernelspec": {
   "display_name": "Python 3 (ipykernel)",
   "language": "python",
   "name": "python3"
  },
  "language_info": {
   "codemirror_mode": {
    "name": "ipython",
    "version": 3
   },
   "file_extension": ".py",
   "mimetype": "text/x-python",
   "name": "python",
   "nbconvert_exporter": "python",
   "pygments_lexer": "ipython3",
   "version": "3.11.2"
  }
 },
 "nbformat": 4,
 "nbformat_minor": 5
}
