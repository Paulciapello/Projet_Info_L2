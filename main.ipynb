{
 "cells": [
  {
   "cell_type": "markdown",
   "id": "872e1400-1a32-40fb-9e89-ea763a981a1d",
   "metadata": {},
   "source": [
    "# Caractéristiques des moteurs d'avion à pistons"
   ]
  },
  {
   "cell_type": "code",
   "execution_count": null,
   "id": "ee620efe-adde-4040-bba8-aa1e9b489f9f",
   "metadata": {},
   "outputs": [],
   "source": [
    "# -*- coding: utf-8 -*-\n",
    "\n",
    "\"\"\"\n",
    "@author: Chiapello Paul, Eliott Jenny\n",
    "@date: 2023, Mars\n",
    "L2, FSI, Paul Sabatier University, Toulouse.\n",
    "\n",
    "\"\"\""
   ]
  },
  {
   "cell_type": "markdown",
   "id": "1a8196e2-00f3-44f7-b77a-9282de53d6c5",
   "metadata": {},
   "source": [
    "# Import fichier"
   ]
  },
  {
   "cell_type": "code",
   "execution_count": 1,
   "id": "365bf99a-54d3-472d-971c-1ab477f197d2",
   "metadata": {
    "tags": []
   },
   "outputs": [],
   "source": [
    "import pandas as pd\n",
    "df = pd.read_excel('Engine.xls')"
   ]
  },
  {
   "cell_type": "markdown",
   "id": "c769fe0f-1440-4c59-9b84-b10b2a823c69",
   "metadata": {},
   "source": [
    "# Ajout, suppression, renommage et réorganisation des colonnes, lignes"
   ]
  },
  {
   "cell_type": "code",
   "execution_count": 2,
   "id": "275d4081-51d7-4388-a742-385f5d673a4a",
   "metadata": {
    "tags": []
   },
   "outputs": [],
   "source": [
    "df = df.set_axis(df.iloc[2], axis='columns')      # mise en place de l'en-tête\n",
    "df.drop([2],inplace=True)  \n",
    "\n",
    "df.columns.values[11] = 'Cylindrées_cm^3'   \n",
    "df.columns.values[13] = 'Nb_Cylindres'     \n",
    "df.columns.values[15] = 'Config_Moteurs'   # renommage des noms de colonnes doublé "
   ]
  },
  {
   "cell_type": "markdown",
   "id": "e5961e9e-3865-4beb-bb46-f07c3b8bdb48",
   "metadata": {
    "tags": []
   },
   "source": [
    "### Supression colonnes, lignes:"
   ]
  },
  {
   "cell_type": "code",
   "execution_count": 3,
   "id": "9a2cff4d-6158-4543-b3c5-d8b6b7585aaf",
   "metadata": {
    "tags": []
   },
   "outputs": [],
   "source": [
    "df.drop(df.columns[27:], axis=1, inplace=True) # suppression des colonnes vides"
   ]
  },
  {
   "cell_type": "code",
   "execution_count": 4,
   "id": "27c3a2aa-f0ec-4bd0-a1e8-2c11ad79900c",
   "metadata": {
    "jupyter": {
     "source_hidden": true
    },
    "tags": []
   },
   "outputs": [],
   "source": [
    "# suppression des colonnes inutiles\n",
    "df.drop(['Manufacturer', 'Ordered', 'Delivered',\n",
    "         'Modified','Cancelled', 'Test','Manufacturer Model',\n",
    "         'Rows','IN^3','Number','Exhaust','Intake','Arrangement','Gear Ratio'], axis=1, inplace=True)  "
   ]
  },
  {
   "cell_type": "code",
   "execution_count": 5,
   "id": "db7f6389-6250-401c-a31d-935d23dc76cf",
   "metadata": {
    "tags": []
   },
   "outputs": [],
   "source": [
    "df.dropna(thresh=3, inplace=True)    # Supression de ligne si il y a moins de 3 valeurs non vide "
   ]
  },
  {
   "cell_type": "markdown",
   "id": "258bee3b-9741-4fdc-900f-f74d5831f465",
   "metadata": {
    "tags": []
   },
   "source": [
    "### Renommages colonnes"
   ]
  },
  {
   "cell_type": "code",
   "execution_count": 6,
   "id": "5be4a98e-dd78-4e2d-8cb5-68beeae52fe9",
   "metadata": {},
   "outputs": [],
   "source": [
    "df.rename(columns = {'Type' : 'Nom_moteur',\n",
    "                    'Bore' : 'Alesage_mm',\n",
    "                    'Stroke' : 'Course_Piston_mm',\n",
    "                     'Cooling' : 'Refroidissement',\n",
    "                     'CR' : 'Taux de compression',\n",
    "                     'Weight' : 'Poids_Moteurs_kg',\n",
    "                     'HP' : 'Puissance_Moteurs_kwatt',\n",
    "                     '@ RPM' : 'Tours_minutes',\n",
    "                     'Aircraft' : 'Aéronef'\n",
    "                    }, inplace=True)"
   ]
  },
  {
   "cell_type": "markdown",
   "id": "ec5b5ade-d475-4e10-8039-e901a9ab9b57",
   "metadata": {
    "tags": []
   },
   "source": [
    "### Reorganisation colonnes"
   ]
  },
  {
   "cell_type": "code",
   "execution_count": 7,
   "id": "69c9d51a-f147-49f4-8b5b-1f0c24c24961",
   "metadata": {},
   "outputs": [],
   "source": [
    "reorga_colonnes = ['Nom_moteur','Aéronef','Puissance_Moteurs_kwatt',\n",
    "                   'Poids_Moteurs_kg','Cylindrées_cm^3',\n",
    "                   'Taux de compression','Alesage_mm',\n",
    "                   'Course_Piston_mm','Tours_minutes',\n",
    "                   'Config_Moteurs','Nb_Cylindres','Refroidissement'\n",
    "                  ]\n",
    "df = df[reorga_colonnes]    "
   ]
  },
  {
   "cell_type": "markdown",
   "id": "2b51cda9-56ae-4d81-a17b-a2cd55388b28",
   "metadata": {},
   "source": [
    "# Conversion données"
   ]
  },
  {
   "cell_type": "markdown",
   "id": "9918e375-22cf-415a-9bf1-2f52cea4b996",
   "metadata": {
    "tags": []
   },
   "source": [
    "### Création de fonctions de convertions"
   ]
  },
  {
   "cell_type": "code",
   "execution_count": 8,
   "id": "c5c7c907-5624-4639-81b2-580daabce694",
   "metadata": {
    "tags": []
   },
   "outputs": [],
   "source": [
    "def inch_to_mm(inch):\n",
    "    \"\"\" \n",
    "    convertion pouce en mm \n",
    "    \"\"\"\n",
    "    return inch * 25.4\n",
    "\n",
    "def in3_to_cm3(in3):\n",
    "    \"\"\" \n",
    "    convertion poucecube en cmcube\n",
    "    \"\"\"\n",
    "    return in3 * 16.39\n",
    "\n",
    "def lbs_to_kg(lbs):\n",
    "    \"\"\" \n",
    "    convertion livre en kg\n",
    "    \"\"\"\n",
    "    return lbs * 0.45359237\n",
    "\n",
    "def ch_to_kwatt(ch):\n",
    "    \"\"\" \n",
    "    convertion chevaux en kwatt\n",
    "    \"\"\"\n",
    "    return ch * 0.735499\n",
    "\n"
   ]
  },
  {
   "cell_type": "markdown",
   "id": "180ec789-5d7a-4b3b-8085-9a1729a3687c",
   "metadata": {
    "tags": []
   },
   "source": [
    "### Convertion colonnes en float"
   ]
  },
  {
   "cell_type": "code",
   "execution_count": 9,
   "id": "4e89045d-72aa-4f0d-b2e3-383f2f37d07a",
   "metadata": {
    "tags": []
   },
   "outputs": [],
   "source": [
    "# variable des colonnes que l'on veux convertir en float\n",
    "cols_to_convert = ['Puissance_Moteurs_kwatt','Alesage_mm','Course_Piston_mm',\n",
    "                   'Poids_Moteurs_kg','Cylindrées_cm^3','Taux de compression',\n",
    "                  'Tours_minutes','Nb_Cylindres']\n",
    "\n",
    "#Pour convertir les colonnes contenant des str en float (utilisation de chat gpt pour la fonction applymap(...)\n",
    "df[cols_to_convert] = df[cols_to_convert].applymap(lambda x: float(x) if str(x).replace('.','',1).isdigit() else None)\n",
    "df[cols_to_convert] = df[cols_to_convert].astype(float) #convertion en float"
   ]
  },
  {
   "cell_type": "markdown",
   "id": "530162db-8857-4b34-b6f5-aaab12a94262",
   "metadata": {
    "tags": []
   },
   "source": [
    "### Convertions colonnes en unité international"
   ]
  },
  {
   "cell_type": "code",
   "execution_count": 10,
   "id": "4855fa05-2fde-459e-9348-64047a9a34df",
   "metadata": {
    "tags": []
   },
   "outputs": [],
   "source": [
    "cols_to_inch_to_mm = ['Alesage_mm','Course_Piston_mm']\n",
    "\n",
    "# Convertion des colonnes en unitées internationales\n",
    "df[cols_to_inch_to_mm] = df[cols_to_inch_to_mm].apply(inch_to_mm)\n",
    "df['Poids_Moteurs_kg'] = df['Poids_Moteurs_kg'].apply(lbs_to_kg)\n",
    "df['Puissance_Moteurs_kwatt'] = df['Puissance_Moteurs_kwatt'].apply(ch_to_kwatt)\n",
    "df['Cylindrées_cm^3'] = df['Cylindrées_cm^3'].apply(in3_to_cm3)\n",
    "\n"
   ]
  },
  {
   "cell_type": "code",
   "execution_count": 11,
   "id": "14a76c98-05fa-4408-8fa3-094cbeb36e3a",
   "metadata": {
    "tags": []
   },
   "outputs": [
    {
     "data": {
      "text/html": [
       "<div>\n",
       "<style scoped>\n",
       "    .dataframe tbody tr th:only-of-type {\n",
       "        vertical-align: middle;\n",
       "    }\n",
       "\n",
       "    .dataframe tbody tr th {\n",
       "        vertical-align: top;\n",
       "    }\n",
       "\n",
       "    .dataframe thead th {\n",
       "        text-align: right;\n",
       "    }\n",
       "</style>\n",
       "<table border=\"1\" class=\"dataframe\">\n",
       "  <thead>\n",
       "    <tr style=\"text-align: right;\">\n",
       "      <th>2</th>\n",
       "      <th>Nom_moteur</th>\n",
       "      <th>Aéronef</th>\n",
       "      <th>Puissance_Moteurs_kwatt</th>\n",
       "      <th>Poids_Moteurs_kg</th>\n",
       "      <th>Cylindrées_cm^3</th>\n",
       "      <th>Taux de compression</th>\n",
       "      <th>Alesage_mm</th>\n",
       "      <th>Course_Piston_mm</th>\n",
       "      <th>Tours_minutes</th>\n",
       "      <th>Config_Moteurs</th>\n",
       "      <th>Nb_Cylindres</th>\n",
       "      <th>Refroidissement</th>\n",
       "    </tr>\n",
       "  </thead>\n",
       "  <tbody>\n",
       "    <tr>\n",
       "      <th>5</th>\n",
       "      <td>NaN</td>\n",
       "      <td>NaN</td>\n",
       "      <td>257.424650</td>\n",
       "      <td>319.782621</td>\n",
       "      <td>19003.756581</td>\n",
       "      <td>NaN</td>\n",
       "      <td>120.000</td>\n",
       "      <td>140.0000</td>\n",
       "      <td>2000.0</td>\n",
       "      <td>Y</td>\n",
       "      <td>12.0</td>\n",
       "      <td>L</td>\n",
       "    </tr>\n",
       "    <tr>\n",
       "      <th>6</th>\n",
       "      <td>Dragonfly I</td>\n",
       "      <td>(Clark Pursuit)</td>\n",
       "      <td>235.359680</td>\n",
       "      <td>297.556595</td>\n",
       "      <td>22779.809086</td>\n",
       "      <td>4.42</td>\n",
       "      <td>139.700</td>\n",
       "      <td>165.1000</td>\n",
       "      <td>1650.0</td>\n",
       "      <td>R</td>\n",
       "      <td>9.0</td>\n",
       "      <td>A</td>\n",
       "    </tr>\n",
       "    <tr>\n",
       "      <th>7</th>\n",
       "      <td>Dragonfly IA</td>\n",
       "      <td>Dragon</td>\n",
       "      <td>264.779640</td>\n",
       "      <td>NaN</td>\n",
       "      <td>22779.809086</td>\n",
       "      <td>4.42</td>\n",
       "      <td>139.700</td>\n",
       "      <td>165.1000</td>\n",
       "      <td>NaN</td>\n",
       "      <td>R</td>\n",
       "      <td>9.0</td>\n",
       "      <td>A</td>\n",
       "    </tr>\n",
       "    <tr>\n",
       "      <th>8</th>\n",
       "      <td>Gnat</td>\n",
       "      <td>Martin K.III</td>\n",
       "      <td>33.097455</td>\n",
       "      <td>37.194574</td>\n",
       "      <td>2281.204907</td>\n",
       "      <td>3.80</td>\n",
       "      <td>110.000</td>\n",
       "      <td>120.0000</td>\n",
       "      <td>1920.0</td>\n",
       "      <td>O</td>\n",
       "      <td>2.0</td>\n",
       "      <td>A</td>\n",
       "    </tr>\n",
       "    <tr>\n",
       "      <th>9</th>\n",
       "      <td>Mosquito</td>\n",
       "      <td>NaN</td>\n",
       "      <td>91.937375</td>\n",
       "      <td>81.646627</td>\n",
       "      <td>5104.431641</td>\n",
       "      <td>4.05</td>\n",
       "      <td>95.000</td>\n",
       "      <td>120.0000</td>\n",
       "      <td>1700.0</td>\n",
       "      <td>R</td>\n",
       "      <td>6.0</td>\n",
       "      <td>A</td>\n",
       "    </tr>\n",
       "    <tr>\n",
       "      <th>...</th>\n",
       "      <td>...</td>\n",
       "      <td>...</td>\n",
       "      <td>...</td>\n",
       "      <td>...</td>\n",
       "      <td>...</td>\n",
       "      <td>...</td>\n",
       "      <td>...</td>\n",
       "      <td>...</td>\n",
       "      <td>...</td>\n",
       "      <td>...</td>\n",
       "      <td>...</td>\n",
       "      <td>...</td>\n",
       "    </tr>\n",
       "    <tr>\n",
       "      <th>2118</th>\n",
       "      <td>Merlin 145</td>\n",
       "      <td>XP-51G</td>\n",
       "      <td>1103.248500</td>\n",
       "      <td>NaN</td>\n",
       "      <td>27026.440502</td>\n",
       "      <td>NaN</td>\n",
       "      <td>137.160</td>\n",
       "      <td>152.4000</td>\n",
       "      <td>NaN</td>\n",
       "      <td>60 V</td>\n",
       "      <td>12.0</td>\n",
       "      <td>L</td>\n",
       "    </tr>\n",
       "    <tr>\n",
       "      <th>2119</th>\n",
       "      <td>Peregrine I</td>\n",
       "      <td>Whirlwind</td>\n",
       "      <td>650.916615</td>\n",
       "      <td>NaN</td>\n",
       "      <td>21239.915232</td>\n",
       "      <td>NaN</td>\n",
       "      <td>127.000</td>\n",
       "      <td>139.7000</td>\n",
       "      <td>NaN</td>\n",
       "      <td>V</td>\n",
       "      <td>12.0</td>\n",
       "      <td>L</td>\n",
       "    </tr>\n",
       "    <tr>\n",
       "      <th>2120</th>\n",
       "      <td>50-499</td>\n",
       "      <td>L-10</td>\n",
       "      <td>106.647355</td>\n",
       "      <td>NaN</td>\n",
       "      <td>8191.798841</td>\n",
       "      <td>NaN</td>\n",
       "      <td>117.475</td>\n",
       "      <td>107.9500</td>\n",
       "      <td>NaN</td>\n",
       "      <td>R</td>\n",
       "      <td>7.0</td>\n",
       "      <td>A</td>\n",
       "    </tr>\n",
       "    <tr>\n",
       "      <th>2121</th>\n",
       "      <td>T-14</td>\n",
       "      <td>None</td>\n",
       "      <td>441.299400</td>\n",
       "      <td>NaN</td>\n",
       "      <td>11803.275130</td>\n",
       "      <td>NaN</td>\n",
       "      <td>107.950</td>\n",
       "      <td>92.1004</td>\n",
       "      <td>NaN</td>\n",
       "      <td>R</td>\n",
       "      <td>14.0</td>\n",
       "      <td>L</td>\n",
       "    </tr>\n",
       "    <tr>\n",
       "      <th>2122</th>\n",
       "      <td>WM-80</td>\n",
       "      <td>Driggs Dart</td>\n",
       "      <td>18.387475</td>\n",
       "      <td>NaN</td>\n",
       "      <td>1312.409535</td>\n",
       "      <td>NaN</td>\n",
       "      <td>95.250</td>\n",
       "      <td>92.0750</td>\n",
       "      <td>NaN</td>\n",
       "      <td>O</td>\n",
       "      <td>2.0</td>\n",
       "      <td>A</td>\n",
       "    </tr>\n",
       "  </tbody>\n",
       "</table>\n",
       "<p>1676 rows × 12 columns</p>\n",
       "</div>"
      ],
      "text/plain": [
       "2       Nom_moteur          Aéronef  Puissance_Moteurs_kwatt  \\\n",
       "5              NaN              NaN               257.424650   \n",
       "6      Dragonfly I  (Clark Pursuit)               235.359680   \n",
       "7     Dragonfly IA           Dragon               264.779640   \n",
       "8             Gnat     Martin K.III                33.097455   \n",
       "9         Mosquito              NaN                91.937375   \n",
       "...            ...              ...                      ...   \n",
       "2118    Merlin 145           XP-51G              1103.248500   \n",
       "2119   Peregrine I        Whirlwind               650.916615   \n",
       "2120        50-499             L-10               106.647355   \n",
       "2121          T-14             None               441.299400   \n",
       "2122         WM-80      Driggs Dart                18.387475   \n",
       "\n",
       "2     Poids_Moteurs_kg  Cylindrées_cm^3  Taux de compression  Alesage_mm  \\\n",
       "5           319.782621     19003.756581                  NaN     120.000   \n",
       "6           297.556595     22779.809086                 4.42     139.700   \n",
       "7                  NaN     22779.809086                 4.42     139.700   \n",
       "8            37.194574      2281.204907                 3.80     110.000   \n",
       "9            81.646627      5104.431641                 4.05      95.000   \n",
       "...                ...              ...                  ...         ...   \n",
       "2118               NaN     27026.440502                  NaN     137.160   \n",
       "2119               NaN     21239.915232                  NaN     127.000   \n",
       "2120               NaN      8191.798841                  NaN     117.475   \n",
       "2121               NaN     11803.275130                  NaN     107.950   \n",
       "2122               NaN      1312.409535                  NaN      95.250   \n",
       "\n",
       "2     Course_Piston_mm  Tours_minutes Config_Moteurs  Nb_Cylindres  \\\n",
       "5             140.0000         2000.0              Y          12.0   \n",
       "6             165.1000         1650.0              R           9.0   \n",
       "7             165.1000            NaN              R           9.0   \n",
       "8             120.0000         1920.0              O           2.0   \n",
       "9             120.0000         1700.0              R           6.0   \n",
       "...                ...            ...            ...           ...   \n",
       "2118          152.4000            NaN           60 V          12.0   \n",
       "2119          139.7000            NaN              V          12.0   \n",
       "2120          107.9500            NaN              R           7.0   \n",
       "2121           92.1004            NaN              R          14.0   \n",
       "2122           92.0750            NaN              O           2.0   \n",
       "\n",
       "2    Refroidissement  \n",
       "5                  L  \n",
       "6                  A  \n",
       "7                  A  \n",
       "8                  A  \n",
       "9                  A  \n",
       "...              ...  \n",
       "2118               L  \n",
       "2119               L  \n",
       "2120               A  \n",
       "2121               L  \n",
       "2122               A  \n",
       "\n",
       "[1676 rows x 12 columns]"
      ]
     },
     "execution_count": 11,
     "metadata": {},
     "output_type": "execute_result"
    }
   ],
   "source": [
    "df"
   ]
  }
 ],
 "metadata": {
  "kernelspec": {
   "display_name": "Python 3 (ipykernel)",
   "language": "python",
   "name": "python3"
  },
  "language_info": {
   "codemirror_mode": {
    "name": "ipython",
    "version": 3
   },
   "file_extension": ".py",
   "mimetype": "text/x-python",
   "name": "python",
   "nbconvert_exporter": "python",
   "pygments_lexer": "ipython3",
   "version": "3.11.2"
  }
 },
 "nbformat": 4,
 "nbformat_minor": 5
}
