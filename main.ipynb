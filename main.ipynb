{
 "cells": [
  {
   "cell_type": "markdown",
   "id": "1a8196e2-00f3-44f7-b77a-9282de53d6c5",
   "metadata": {},
   "source": [
    "# Import fichier"
   ]
  },
  {
   "cell_type": "code",
   "execution_count": 1,
   "id": "365bf99a-54d3-472d-971c-1ab477f197d2",
   "metadata": {
    "tags": []
   },
   "outputs": [],
   "source": [
    "import pandas as pd"
   ]
  },
  {
   "cell_type": "code",
   "execution_count": 2,
   "id": "9113419c-8305-430d-ada2-44ed19f0e0bc",
   "metadata": {
    "tags": []
   },
   "outputs": [],
   "source": [
    "df = pd.read_excel('Engine.xls')"
   ]
  },
  {
   "cell_type": "markdown",
   "id": "c769fe0f-1440-4c59-9b84-b10b2a823c69",
   "metadata": {},
   "source": [
    "# Mise en place colonne,ligne"
   ]
  },
  {
   "cell_type": "code",
   "execution_count": 3,
   "id": "275d4081-51d7-4388-a742-385f5d673a4a",
   "metadata": {
    "tags": []
   },
   "outputs": [],
   "source": [
    "df = df.set_axis(df.iloc[2], axis='columns')"
   ]
  },
  {
   "cell_type": "code",
   "execution_count": 4,
   "id": "15eacde6-5aa4-4853-b9c7-58461631d148",
   "metadata": {
    "tags": []
   },
   "outputs": [],
   "source": [
    "df = df.drop([0,1,2,3], axis=0)"
   ]
  },
  {
   "cell_type": "code",
   "execution_count": 5,
   "id": "5734c67b-7c5d-48fb-9c4f-a6ad1c2fef29",
   "metadata": {
    "tags": []
   },
   "outputs": [],
   "source": [
    "df = df.set_index('Type')"
   ]
  },
  {
   "cell_type": "markdown",
   "id": "7da84b8d-c9ad-4a92-8703-1165549d5dcd",
   "metadata": {
    "tags": []
   },
   "source": [
    "df"
   ]
  }
 ],
 "metadata": {
  "kernelspec": {
   "display_name": "Python 3 (ipykernel)",
   "language": "python",
   "name": "python3"
  },
  "language_info": {
   "codemirror_mode": {
    "name": "ipython",
    "version": 3
   },
   "file_extension": ".py",
   "mimetype": "text/x-python",
   "name": "python",
   "nbconvert_exporter": "python",
   "pygments_lexer": "ipython3",
   "version": "3.11.2"
  }
 },
 "nbformat": 4,
 "nbformat_minor": 5
}
