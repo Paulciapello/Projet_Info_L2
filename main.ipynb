{
 "cells": [
  {
   "cell_type": "markdown",
   "id": "1fe77020-013e-48a8-9bd3-abc813c1f4e3",
   "metadata": {
    "tags": []
   },
   "source": [
    "![](image/icon1.png) ![](image/icon2.png) ![](image/icon3.png)  \n",
    ">**Projet Informatique L2** **UT3 Paul Sabatier**  \n",
    ">**Paul Chiapello**   \n",
    ">**Eliot Jenny**"
   ]
  },
  {
   "cell_type": "markdown",
   "id": "872e1400-1a32-40fb-9e89-ea763a981a1d",
   "metadata": {
    "tags": []
   },
   "source": [
    "***\n",
    "# Caractéristiques des moteurs d'avion à pistons\n",
    "***\n",
    "\n",
    "## Objectif:\n",
    "\n",
    "L'objectif de ce projet consiste à analyser un ensemble de données relatives aux caractéristiques des moteurs d'avions à pistons et à en déduire des conclusions. L'analyse se concentrera exclusivement sur les moteurs à pistons, étant donné que les données relatives aux autres types de moteurs tels que les moteurs à réaction ou les moteurs de fusée ne sont pas suffisamment enrichies.\n",
    "\n",
    "## Déroulé du projet: \n",
    "\n",
    "1) Dans un premier temps, une compréhension du sujet sera établie, permettant d'établir les notions clés et de définir un plan de déroulement du projet.\n",
    "2) Dans un deuxième temps, le fichier Excel sera restructuré et les unités de mesure seront converties en unités internationales.\n",
    "3) Enfin, dans un troisième temps, le fichier sera analysé à l'aide de graphiques et d'outils d'analyse afin d'en tirer des conclusions.\n",
    "***"
   ]
  },
  {
   "cell_type": "markdown",
   "id": "70d460d6-9b01-4ff2-9c1b-cb3c398b1fce",
   "metadata": {},
   "source": [
    "# Partie 1: Compréhension du sujet:\n",
    "***\n",
    "Les moteurs d'avions sont des éléments clés de tout avion. Ils sont responsables de fournir la poussée nécessaire pour propulser l'avion dans les airs et le maintenir en mouvement. Dans le contexte de ce projet, nous nous intéressons aux moteurs à piston utilisés en aéronautique, qui sont le plus souvent des moteurs thermiques à quatre temps.\n",
    "\n",
    "Voici un exemple d'un moteur à piston 4 temps :\n",
    " \n",
    " ![Moteur 4 temps cycle](image/cycle-image-4-temps.png)\n",
    " \n",
    "Le mode de fonctionnement de ce type de moteur peut être décrit en quatre étapes successives :\n",
    "\n",
    "- L'admission : l'essence (actuellement de l'AVGAS 100LL) et l'air sont injectés dans le moteur.\n",
    "- La compression : le mélange est comprimé et le piston atteint le point le plus haut de sa course.\n",
    "- L'explosion : une étincelle de la bougie déclenche l'explosion du mélange comprimé.\n",
    "- L'échappement : les gaz brûlés s'échappent et le piston se trouve au point le plus bas de sa course.\n",
    "\n",
    "Les performances du moteur dépendent donc de certaines caractéristiques telles que le volume du piston, la hauteur du piston du point le plus haut au point le plus bas, le taux de compression, etc. Ces caractéristiques seront examinées en détail.\n",
    "\n",
    "Les avions sont équipés de ce type de moteur, mais avec plusieurs cylindres disposés dans différentes configurations, telles que les moteurs d'avion en étoile et les moteurs en V. Voici quelques exemples de ces configurations :\n",
    "  \n",
    " - Moteur en étoile:\n",
    " \n",
    " ![Moteur en étoile](image/Moteur_etoile.png)\n",
    "  \n",
    " - Moteur en V:\n",
    " \n",
    "  ![Moteur en V](image/Moteur_v.png)\n",
    "  \n",
    "Une fois familiarisés avec le sujet, nous sommes en mesure de comprendre les colonnes du tableau Excel qui sont rédigées en anglais. Nous allons procéder à la traduction de ces colonnes et supprimer celles qui ne sont pas pertinentes pour ce projet. Les cases à cocher ci-dessous indiquent les colonnes que nous retiendrons pour notre tableau final :\n",
    "\n",
    "- [x] Type = Nom Moteur\n",
    "- [ ] Ordered = Commandé\n",
    "- [ ] Delivered = Livré\n",
    "- [ ] Modified = Modifié\n",
    "- [ ] Cancelled = Annulé\n",
    "- [ ] Test = Test\n",
    "- [ ] Manufacturer Model = Modèle du Fabriquant\n",
    "- [x] Bore = Alésage (diamètre du trou du cylindre)\n",
    "- [x] Stroke = Course Piston (Hauteur du Piston du point haut au point bas)\n",
    "- [x] IN^3 = Cylindrées (Volume de la chambre de combustion)\n",
    "- [ ] IN^3 = Même colonne mais convertie \n",
    "- [x] Number = Nombre de Cylindre\n",
    "- [ ] Rows = Nombre de ligne de cylindre\n",
    "- [x] Arrangement = configurations cylindre\n",
    "- [x] Cooling = Type de refroidissment\n",
    "- [ ] Intake = Nombre d'injecteurs\n",
    "- [ ] Exhaust = Nombre de valve d'échappement\n",
    "- [ ] Arrangement Number = Trop peux de donner\n",
    "- [x] CR = Taux de Compression\n",
    "- [ ] Gear Ratio = Rapport de Transmission\n",
    "- [x] Weight = Poids Moteur\n",
    "- [x] HP = Puissance moteur en chevaux\n",
    "- [x] @ RPM = Tours par minutes \n",
    "- [x] Aircraft = Aéronef \n",
    "- [ ] Service = Service Client\n",
    "- [ ] Source = Source de données\n",
    "- [ ] Notes = Commentaires\n",
    "***"
   ]
  },
  {
   "cell_type": "markdown",
   "id": "4d677e99-e24f-42ef-82d6-5787e2f2ea30",
   "metadata": {
    "tags": []
   },
   "source": [
    "# Partie 2: Importation du fichier et réorganisation:\n",
    "***\n",
    "Avant de commencer le projet, nous avons procédé à l'installation de nos interpréteurs Python et de nos terminaux à l'aide de GitBash. Nous avons ensuite créé un dépôt sur GitHub pour travailler en collaboration, voici le lien : [Projet_L2_Info](https://github.com/Paulciapello/Projet_Info_L2.git)\n",
    "\n",
    "Nous avons décidé d'utiliser l'interpréteur Jupyter en raison de sa simplicité et de la possibilité de créer un rapport directement dans l'environnement. Cependant, nous avons rencontré plusieurs problèmes de téléchargement et de compatibilité, ce qui nous a pris environ deux heures pour les résoudre.\n"
   ]
  },
  {
   "cell_type": "markdown",
   "id": "1a8196e2-00f3-44f7-b77a-9282de53d6c5",
   "metadata": {},
   "source": [
    "#### Import du fichier:"
   ]
  },
  {
   "cell_type": "code",
   "execution_count": 1,
   "id": "365bf99a-54d3-472d-971c-1ab477f197d2",
   "metadata": {
    "tags": []
   },
   "outputs": [],
   "source": [
    "import pandas as pd\n",
    "import matplotlib\n",
    "import matplotlib.pyplot as plt    # importations des modules utiles pour ce projet.\n",
    "import numpy as np\n",
    "from scipy.linalg import lstsq\n",
    "from matplotlib import cm\n",
    "from matplotlib.ticker import LinearLocator, FormatStrFormatter\n",
    "from mpl_toolkits.mplot3d import Axes3D\n",
    "\n",
    "df = pd.read_excel('Engine.xls')  #importations du fichier excel"
   ]
  },
  {
   "cell_type": "markdown",
   "id": "c769fe0f-1440-4c59-9b84-b10b2a823c69",
   "metadata": {},
   "source": [
    "#### Ajout, suppression, renommage et réorganisation des colonnes, lignes"
   ]
  },
  {
   "cell_type": "code",
   "execution_count": 2,
   "id": "275d4081-51d7-4388-a742-385f5d673a4a",
   "metadata": {
    "tags": []
   },
   "outputs": [],
   "source": [
    "df = df.set_axis(df.iloc[2], axis='columns')      # mise en place de l'en-tête\n",
    "df.drop([2],inplace=True)  \n",
    "\n",
    "df.columns.values[11] = 'Cylindrées_cm^3'   \n",
    "df.columns.values[13] = 'Nb_Cylindres'     \n",
    "df.columns.values[15] = 'Config_Moteurs'   # renommage des noms de colonnes doublé "
   ]
  },
  {
   "cell_type": "markdown",
   "id": "e5961e9e-3865-4beb-bb46-f07c3b8bdb48",
   "metadata": {
    "tags": []
   },
   "source": [
    "##### Supression colonnes, lignes:"
   ]
  },
  {
   "cell_type": "code",
   "execution_count": 3,
   "id": "9a2cff4d-6158-4543-b3c5-d8b6b7585aaf",
   "metadata": {
    "tags": []
   },
   "outputs": [],
   "source": [
    "df.drop(df.columns[27:], axis=1, inplace=True) # suppression des colonnes vides"
   ]
  },
  {
   "cell_type": "code",
   "execution_count": 4,
   "id": "27c3a2aa-f0ec-4bd0-a1e8-2c11ad79900c",
   "metadata": {
    "tags": []
   },
   "outputs": [],
   "source": [
    "# suppression des colonnes inutiles\n",
    "df.drop(['Manufacturer', 'Ordered', 'Delivered',\n",
    "         'Modified','Cancelled', 'Test','Manufacturer Model',\n",
    "         'Rows','IN^3','Number','Exhaust','Intake','Arrangement','Gear Ratio'], axis=1, inplace=True)  "
   ]
  },
  {
   "cell_type": "code",
   "execution_count": 5,
   "id": "db7f6389-6250-401c-a31d-935d23dc76cf",
   "metadata": {
    "tags": []
   },
   "outputs": [],
   "source": [
    "df.dropna(thresh=3, inplace=True)    # Supression de ligne si il y a moins de 3 valeurs non vide "
   ]
  },
  {
   "cell_type": "markdown",
   "id": "258bee3b-9741-4fdc-900f-f74d5831f465",
   "metadata": {
    "tags": []
   },
   "source": [
    "##### Renommages colonnes"
   ]
  },
  {
   "cell_type": "code",
   "execution_count": 6,
   "id": "5be4a98e-dd78-4e2d-8cb5-68beeae52fe9",
   "metadata": {},
   "outputs": [],
   "source": [
    "#renommage des colonnes\n",
    "df.rename(columns = {'Type' : 'Nom_moteur',\n",
    "                    'Bore' : 'Alesage_mm',\n",
    "                    'Stroke' : 'Course_Piston_mm',\n",
    "                     'Cooling' : 'Refroidissement',\n",
    "                     'CR' : 'Taux de compression',\n",
    "                     'Weight' : 'Poids_Moteurs_kg',\n",
    "                     'HP' : 'Puissance_Moteurs_kwatt',\n",
    "                     '@ RPM' : 'Tours_minutes',\n",
    "                     'Aircraft' : 'Aéronef',\n",
    "                      }, inplace=True)"
   ]
  },
  {
   "cell_type": "markdown",
   "id": "ec5b5ade-d475-4e10-8039-e901a9ab9b57",
   "metadata": {
    "tags": []
   },
   "source": [
    "#### Reorganisation colonnes"
   ]
  },
  {
   "cell_type": "code",
   "execution_count": 7,
   "id": "69c9d51a-f147-49f4-8b5b-1f0c24c24961",
   "metadata": {},
   "outputs": [],
   "source": [
    "#réorganisation des colonnes\n",
    "reorga_colonnes = ['Nom_moteur','Aéronef','Puissance_Moteurs_kwatt',\n",
    "                   'Poids_Moteurs_kg','Cylindrées_cm^3',\n",
    "                   'Taux de compression','Alesage_mm',\n",
    "                   'Course_Piston_mm','Tours_minutes',\n",
    "                   'Config_Moteurs','Nb_Cylindres','Refroidissement'\n",
    "                  ]\n",
    "df = df[reorga_colonnes]    "
   ]
  },
  {
   "cell_type": "markdown",
   "id": "2b51cda9-56ae-4d81-a17b-a2cd55388b28",
   "metadata": {},
   "source": [
    "### Conversion données"
   ]
  },
  {
   "cell_type": "markdown",
   "id": "9918e375-22cf-415a-9bf1-2f52cea4b996",
   "metadata": {
    "tags": []
   },
   "source": [
    "##### Création de fonctions de convertions"
   ]
  },
  {
   "cell_type": "code",
   "execution_count": 8,
   "id": "c5c7c907-5624-4639-81b2-580daabce694",
   "metadata": {
    "tags": []
   },
   "outputs": [],
   "source": [
    "#créations de fonctions de convertions\n",
    "def inch_to_mm(inch):\n",
    "    \"\"\" \n",
    "    convertion pouce en mm \n",
    "    \"\"\"\n",
    "    return inch * 25.4\n",
    "\n",
    "def in3_to_cm3(in3):\n",
    "    \"\"\" \n",
    "    convertion poucecube en cmcube\n",
    "    \"\"\"\n",
    "    return in3 * 16.39\n",
    "\n",
    "def lbs_to_kg(lbs):\n",
    "    \"\"\" \n",
    "    convertion livre en kg\n",
    "    \"\"\"\n",
    "    return lbs * 0.45359237\n",
    "\n",
    "def ch_to_kwatt(ch):\n",
    "    \"\"\" \n",
    "    convertion chevaux en kwatt\n",
    "    \"\"\"\n",
    "    return ch * 0.735499\n",
    "\n"
   ]
  },
  {
   "cell_type": "markdown",
   "id": "180ec789-5d7a-4b3b-8085-9a1729a3687c",
   "metadata": {
    "tags": []
   },
   "source": [
    "##### Convertion colonnes en float"
   ]
  },
  {
   "cell_type": "code",
   "execution_count": 9,
   "id": "4e89045d-72aa-4f0d-b2e3-383f2f37d07a",
   "metadata": {
    "tags": []
   },
   "outputs": [],
   "source": [
    "# variable des colonnes que l'on veux convertir en float\n",
    "cols_to_convert = ['Puissance_Moteurs_kwatt','Alesage_mm','Course_Piston_mm',\n",
    "                   'Poids_Moteurs_kg','Cylindrées_cm^3','Taux de compression',\n",
    "                  'Tours_minutes','Nb_Cylindres']\n",
    "\n",
    "#Pour convertir les colonnes contenant des str en float (utilisation de chat gpt pour la fonction applymap(...)\n",
    "df[cols_to_convert] = df[cols_to_convert].applymap(lambda x: float(x) if str(x).replace('.','',1).isdigit() else None)\n",
    "df[cols_to_convert] = df[cols_to_convert].astype(float) #convertion en float"
   ]
  },
  {
   "cell_type": "markdown",
   "id": "530162db-8857-4b34-b6f5-aaab12a94262",
   "metadata": {
    "tags": []
   },
   "source": [
    "##### Convertions colonnes en unité international"
   ]
  },
  {
   "cell_type": "code",
   "execution_count": 10,
   "id": "4855fa05-2fde-459e-9348-64047a9a34df",
   "metadata": {
    "tags": []
   },
   "outputs": [],
   "source": [
    "# variable des colonnes que l'on convertira en mm\n",
    "cols_to_inch_to_mm = ['Alesage_mm','Course_Piston_mm'] \n",
    "\n",
    "# Convertion des colonnes en unitées internationnal\n",
    "df[cols_to_inch_to_mm] = df[cols_to_inch_to_mm].apply(inch_to_mm)\n",
    "df['Poids_Moteurs_kg'] = df['Poids_Moteurs_kg'].apply(lbs_to_kg)\n",
    "df['Puissance_Moteurs_kwatt'] = df['Puissance_Moteurs_kwatt'].apply(ch_to_kwatt)\n",
    "df['Cylindrées_cm^3'] = df['Cylindrées_cm^3'].apply(in3_to_cm3)"
   ]
  },
  {
   "cell_type": "code",
   "execution_count": 11,
   "id": "c718149c-6b7f-4b49-b87e-a0d5978e1145",
   "metadata": {},
   "outputs": [
    {
     "data": {
      "text/html": [
       "<div>\n",
       "<style scoped>\n",
       "    .dataframe tbody tr th:only-of-type {\n",
       "        vertical-align: middle;\n",
       "    }\n",
       "\n",
       "    .dataframe tbody tr th {\n",
       "        vertical-align: top;\n",
       "    }\n",
       "\n",
       "    .dataframe thead th {\n",
       "        text-align: right;\n",
       "    }\n",
       "</style>\n",
       "<table border=\"1\" class=\"dataframe\">\n",
       "  <thead>\n",
       "    <tr style=\"text-align: right;\">\n",
       "      <th>2</th>\n",
       "      <th>Nom_moteur</th>\n",
       "      <th>Aéronef</th>\n",
       "      <th>Puissance_Moteurs_kwatt</th>\n",
       "      <th>Poids_Moteurs_kg</th>\n",
       "      <th>Cylindrées_cm^3</th>\n",
       "      <th>Taux de compression</th>\n",
       "      <th>Alesage_mm</th>\n",
       "      <th>Course_Piston_mm</th>\n",
       "      <th>Tours_minutes</th>\n",
       "      <th>Config_Moteurs</th>\n",
       "      <th>Nb_Cylindres</th>\n",
       "      <th>Refroidissement</th>\n",
       "    </tr>\n",
       "  </thead>\n",
       "  <tbody>\n",
       "    <tr>\n",
       "      <th>5</th>\n",
       "      <td>NaN</td>\n",
       "      <td>NaN</td>\n",
       "      <td>257.424650</td>\n",
       "      <td>319.782621</td>\n",
       "      <td>19003.756581</td>\n",
       "      <td>NaN</td>\n",
       "      <td>120.0</td>\n",
       "      <td>140.0</td>\n",
       "      <td>2000.0</td>\n",
       "      <td>Y</td>\n",
       "      <td>12.0</td>\n",
       "      <td>L</td>\n",
       "    </tr>\n",
       "    <tr>\n",
       "      <th>6</th>\n",
       "      <td>Dragonfly I</td>\n",
       "      <td>(Clark Pursuit)</td>\n",
       "      <td>235.359680</td>\n",
       "      <td>297.556595</td>\n",
       "      <td>22779.809086</td>\n",
       "      <td>4.42</td>\n",
       "      <td>139.7</td>\n",
       "      <td>165.1</td>\n",
       "      <td>1650.0</td>\n",
       "      <td>R</td>\n",
       "      <td>9.0</td>\n",
       "      <td>A</td>\n",
       "    </tr>\n",
       "    <tr>\n",
       "      <th>7</th>\n",
       "      <td>Dragonfly IA</td>\n",
       "      <td>Dragon</td>\n",
       "      <td>264.779640</td>\n",
       "      <td>NaN</td>\n",
       "      <td>22779.809086</td>\n",
       "      <td>4.42</td>\n",
       "      <td>139.7</td>\n",
       "      <td>165.1</td>\n",
       "      <td>NaN</td>\n",
       "      <td>R</td>\n",
       "      <td>9.0</td>\n",
       "      <td>A</td>\n",
       "    </tr>\n",
       "    <tr>\n",
       "      <th>8</th>\n",
       "      <td>Gnat</td>\n",
       "      <td>Martin K.III</td>\n",
       "      <td>33.097455</td>\n",
       "      <td>37.194574</td>\n",
       "      <td>2281.204907</td>\n",
       "      <td>3.80</td>\n",
       "      <td>110.0</td>\n",
       "      <td>120.0</td>\n",
       "      <td>1920.0</td>\n",
       "      <td>O</td>\n",
       "      <td>2.0</td>\n",
       "      <td>A</td>\n",
       "    </tr>\n",
       "    <tr>\n",
       "      <th>9</th>\n",
       "      <td>Mosquito</td>\n",
       "      <td>NaN</td>\n",
       "      <td>91.937375</td>\n",
       "      <td>81.646627</td>\n",
       "      <td>5104.431641</td>\n",
       "      <td>4.05</td>\n",
       "      <td>95.0</td>\n",
       "      <td>120.0</td>\n",
       "      <td>1700.0</td>\n",
       "      <td>R</td>\n",
       "      <td>6.0</td>\n",
       "      <td>A</td>\n",
       "    </tr>\n",
       "  </tbody>\n",
       "</table>\n",
       "</div>"
      ],
      "text/plain": [
       "2    Nom_moteur          Aéronef  Puissance_Moteurs_kwatt  Poids_Moteurs_kg  \\\n",
       "5           NaN              NaN               257.424650        319.782621   \n",
       "6   Dragonfly I  (Clark Pursuit)               235.359680        297.556595   \n",
       "7  Dragonfly IA           Dragon               264.779640               NaN   \n",
       "8          Gnat     Martin K.III                33.097455         37.194574   \n",
       "9      Mosquito              NaN                91.937375         81.646627   \n",
       "\n",
       "2  Cylindrées_cm^3  Taux de compression  Alesage_mm  Course_Piston_mm  \\\n",
       "5     19003.756581                  NaN       120.0             140.0   \n",
       "6     22779.809086                 4.42       139.7             165.1   \n",
       "7     22779.809086                 4.42       139.7             165.1   \n",
       "8      2281.204907                 3.80       110.0             120.0   \n",
       "9      5104.431641                 4.05        95.0             120.0   \n",
       "\n",
       "2  Tours_minutes Config_Moteurs  Nb_Cylindres Refroidissement  \n",
       "5         2000.0              Y          12.0               L  \n",
       "6         1650.0              R           9.0               A  \n",
       "7            NaN              R           9.0               A  \n",
       "8         1920.0              O           2.0               A  \n",
       "9         1700.0              R           6.0               A  "
      ]
     },
     "execution_count": 11,
     "metadata": {},
     "output_type": "execute_result"
    }
   ],
   "source": [
    "df.head()"
   ]
  },
  {
   "cell_type": "markdown",
   "id": "cf121b70-cf1e-4e52-b034-558fe130a75e",
   "metadata": {},
   "source": [
    "Nous avons donc procédé à la réorganisation des colonnes avec les unités appropriées et supprimé les colonnes inutiles ou contenant trop peu de données. Nous pouvons désormais analyser ces données afin d'en tirer des conclusions.\n",
    "***"
   ]
  },
  {
   "cell_type": "markdown",
   "id": "f628c2c1-43c9-4fe3-b755-19922adcd1de",
   "metadata": {},
   "source": [
    "# Partie 3: Analyse du tableaux\n",
    "***\n",
    "Dans cette Partie nous allons analyser le tableaux des moteur d'avions à l'aide d'outil telle que des graph ou des fonctions.\n",
    "Les graph sont composé de :\n",
    "\n",
    "> matrice de graphiques (subplot)\n",
    "\n",
    "> graphique statistique (voir les exemples sur matplolib)\n",
    "\n",
    "> graphique avec des symboles et des lignes \n",
    "\n",
    "> graphique bar\n",
    "\n",
    "> graphique camembert\n",
    "\n",
    "> graphique 3D (choix variées)\n"
   ]
  },
  {
   "cell_type": "code",
   "execution_count": null,
   "id": "80483563-20b6-4bf4-8a46-dc0f87bb390a",
   "metadata": {
    "tags": []
   },
   "outputs": [],
   "source": [
    "df.describe()"
   ]
  },
  {
   "cell_type": "markdown",
   "id": "7daeebc4-2d26-4a2d-8114-2e75de78385c",
   "metadata": {},
   "source": [
    "Au préalable, nous avons utilisé la fonction \"describe\", laquelle permet de décrire de manière sommaire toutes les valeurs numériques en fournissant leur moyenne, leur nombre, ainsi que leur valeur minimale et maximale pour chaque colonne.\n",
    "***"
   ]
  },
  {
   "cell_type": "markdown",
   "id": "f449f88b-c82d-4ad7-abfe-97f57e8627d5",
   "metadata": {},
   "source": [
    "### Graph 1: Rapport entre la puissance et d'autre données (subplot, lignes, symboles et courbe de régression)"
   ]
  },
  {
   "cell_type": "code",
   "execution_count": null,
   "id": "d005a06e-1d13-4e70-a198-03062553a63e",
   "metadata": {
    "tags": []
   },
   "outputs": [],
   "source": [
    "fig, axes = plt.subplots(nrows=2, ncols=2, figsize=(10, 8))\n",
    "fig.suptitle('Graphique Rapport Puissance/Données')\n",
    "\n",
    "# Supprimer les valeurs manquantes\n",
    "df1 = df.dropna(subset=['Puissance_Moteurs_kwatt', 'Cylindrées_cm^3'])\n",
    "\n",
    "# Définir les variables x et y\n",
    "x1 = 'Cylindrées_cm^3'\n",
    "y = 'Puissance_Moteurs_kwatt'\n",
    "\n",
    "# Calcul des coefficients de régression\n",
    "A = np.vstack([df1[x1], np.ones(len(df1))]).T\n",
    "m, c = np.linalg.lstsq(A, df1[y], rcond=None)[0]\n",
    "\n",
    "# Tracer le graphique de points et la ligne de régression\n",
    "axes[0, 0].scatter(df1[x1], df1[y])\n",
    "axes[0, 0].plot(df1[x1], m * df1[x1] + c, 'r')\n",
    "\n",
    "# Définir le titre des axes\n",
    "axes[0, 0].set_xlabel(x1)\n",
    "axes[0, 0].set_ylabel(y)\n",
    "\n",
    "# Supprimer les valeurs manquantes\n",
    "df2 = df.dropna(subset=['Puissance_Moteurs_kwatt', 'Poids_Moteurs_kg'])\n",
    "\n",
    "# Définir les variables x et y\n",
    "x2 = 'Poids_Moteurs_kg'\n",
    "y = 'Puissance_Moteurs_kwatt'\n",
    "\n",
    "# Calcul des coefficients de régression\n",
    "A = np.vstack([df2[x2], np.ones(len(df2))]).T\n",
    "m, c = np.linalg.lstsq(A, df2[y], rcond=None)[0]\n",
    "\n",
    "# Tracer le graphique de points et la ligne de régression\n",
    "axes[0, 1].scatter(df2[x2], df2[y], color='yellow', marker='D')\n",
    "axes[0, 1].plot(df2[x2], m * df2[x2] + c, 'g')\n",
    "\n",
    "# Définir le titre des axes\n",
    "axes[0, 1].set_xlabel(x2)\n",
    "axes[0, 1].set_ylabel(y)\n",
    "\n",
    "# Supprimer les valeurs manquantes\n",
    "df3 = df.dropna(subset=['Puissance_Moteurs_kwatt', 'Nb_Cylindres'])\n",
    "\n",
    "# Définir les variables x et y\n",
    "x3 = 'Nb_Cylindres'\n",
    "y = 'Puissance_Moteurs_kwatt'\n",
    "\n",
    "# Calcul des coefficients de régression\n",
    "A = np.vstack([df3[x3], np.ones(len(df3))]).T\n",
    "m, c = np.linalg.lstsq(A, df3[y], rcond=None)[0]\n",
    "\n",
    "# Tracer le graphique de points et la ligne de régression\n",
    "axes[1, 0].scatter(df3[x3], df3[y], color='purple', marker='P')\n",
    "axes[1, 0].plot(df3[x3], m * df3[x3] + c, color='black')\n",
    "\n",
    "# Définir le titre des axes\n",
    "axes[1, 0].set_xlabel(x3)\n",
    "axes[1, 0].set_ylabel(y)\n",
    "\n",
    "# Supprimer les valeurs manquantes\n",
    "df4 = df.dropna(subset=['Puissance_Moteurs_kwatt', 'Taux de compression'])\n",
    "\n",
    "# Définir les variables x et y\n",
    "x4 = 'Taux de compression'\n",
    "y = 'Puissance_Moteurs_kwatt'\n",
    "\n",
    "# Calcul des coefficients de régression\n",
    "A = np.vstack([df4[x4], np.ones(len(df4))]).T\n",
    "m, c = np.linalg.lstsq(A, df4[y], rcond=None)[0]\n",
    "\n",
    "# Tracer le graphique de points et la ligne de régression\n",
    "axes[1, 1].scatter(df4[x4], df4[y], color='orange', marker='s')\n",
    "axes[1, 1].plot(df4[x4], m * df4[x4] + c, color='brown')\n",
    "\n",
    "# Définir le titre des axes\n",
    "axes[1, 1].set_xlabel(x4)\n",
    "axes[1, 1].set_ylabel(y)\n",
    "\n",
    "plt.show()"
   ]
  },
  {
   "cell_type": "markdown",
   "id": "740923f2-9fa1-455c-9779-44e02a482e90",
   "metadata": {
    "tags": []
   },
   "source": [
    "Nous avons créé une matrice de graphique comparant la puissance en fonction de plusieurs variables telles que la cylindrée, le poids, le nombre de cylindres et le taux de compression. Nous avons également utilisé les courbes de régression pour évaluer les tendances. À la lumière de ces analyses, nous avons pu établir les conclusions suivantes :\n",
    "\n",
    "1) La puissance du moteur est positivement corrélée à la cylindrée, ce qui signifie que plus la cylindrée est grande, plus le moteur est puissant.\n",
    "2) Le poids du moteur est également positivement corrélé à la puissance, ce qui implique qu'un moteur plus lourd est plus puissant.\n",
    "3) La puissance est directement proportionnelle au nombre de cylindres, ce qui implique que plus le nombre de cylindres est élevé, plus la puissance est élevée.\n",
    "4) Le taux de compression est également positivement corrélé à la puissance, ce qui suggère qu'un moteur avec un taux de compression élevé est plus puissant.\n",
    "\n",
    "**En conclusion, nous pouvons affirmer que la puissance du moteur est liée à sa taille, à savoir la taille de ses cylindres, son poids, son nombre de cylindres, ainsi qu'à son taux de compression. En effet, une plus grande surface de compression est un indicateur de performance accrue, ce qui se traduit par une puissance supérieure.**\n",
    "***"
   ]
  },
  {
   "cell_type": "markdown",
   "id": "69a80142-b072-4946-a5b9-4a6be902236c",
   "metadata": {},
   "source": [
    "### Graph 2: Comparaison des types de Refroidissement à l'aide de données (Graphique bar et statistiques)"
   ]
  },
  {
   "cell_type": "code",
   "execution_count": null,
   "id": "36fdc95d-9dbb-46b6-9233-6ae5ae853519",
   "metadata": {
    "tags": []
   },
   "outputs": [],
   "source": [
    "# Sélection des lignes du DataFrame où la colonne \"Refroidissement\" est égale à \"L\"\n",
    "df_L = df[df['Refroidissement'] == 'L']\n",
    "\n",
    "# Sélection des lignes du DataFrame où la colonne \"Refroidissement\" est égale à \"A\"\n",
    "df_A = df[df['Refroidissement'] == 'A']\n",
    "\n",
    "# Sélection des colonnes à conserver dans les DataFrames filtrés\n",
    "cols_to_keep = ['Puissance_Moteurs_kwatt', 'Poids_Moteurs_kg','Alesage_mm','Course_Piston_mm']\n",
    "\n",
    "# Création de nouveaux DataFrames avec les colonnes filtrées\n",
    "df_L_x = df_L.loc[:, cols_to_keep]\n",
    "df_A_x = df_A.loc[:, cols_to_keep]\n",
    "\n",
    "# Calcul des moyennes des colonnes numériques pour les deux DataFrames filtrés\n",
    "Moyennes_L = df_L_x.mean(numeric_only=True).tolist()\n",
    "Moyennes_A = df_A_x.mean(numeric_only=True).tolist()\n",
    "\n",
    "# Conversion des valeurs moyennes en entiers\n",
    "Moyennes_L = list(map(int, Moyennes_L))\n",
    "Moyennes_A = list(map(int, Moyennes_A))\n",
    "\n",
    "# Définition des moyennes pour chaque type de refroidissement\n",
    "type_std = (1,2,3,4)\n",
    "\n",
    "ind = np.arange(len(Moyennes_L))  \n",
    "width = 0.3 \n",
    "\n",
    "# Création des bars\n",
    "fig, ax = plt.subplots()\n",
    "rects1 = ax.bar(ind - width/2, Moyennes_L ,width, yerr=type_std,\n",
    "                label='Liquide')\n",
    "rects2 = ax.bar(ind + width/2, Moyennes_A, width, yerr=type_std,\n",
    "                label='Air')\n",
    "\n",
    "# Configuration du graphique\n",
    "ax.set_title('Comparaison type de refroidissement')\n",
    "ax.set_xticks(ind)\n",
    "ax.set_xticklabels(('Puissance_Moteurs','Poids_Moteurs','Alesage','Course_Piston'))\n",
    "ax.legend()\n",
    "\n",
    "# Ajout des annotations\n",
    "def autolabel(rects, xpos='center'):\n",
    "    ha = {'center': 'center', 'right': 'left', 'left': 'right'}\n",
    "    offset = {'center': 0, 'right': 1, 'left': -1}\n",
    "\n",
    "    for rect in rects:\n",
    "        height = rect.get_height()\n",
    "        ax.annotate('{}'.format(height),\n",
    "                    xy=(rect.get_x() + rect.get_width() / 2, height),\n",
    "                    xytext=(offset[xpos]*3, 3),\n",
    "                    textcoords=\"offset points\",\n",
    "                    ha=ha[xpos], va='bottom')\n",
    "\n",
    "autolabel(rects1, \"left\")\n",
    "autolabel(rects2, \"right\")\n",
    "\n",
    "fig.tight_layout()\n",
    "plt.show()"
   ]
  },
  {
   "cell_type": "markdown",
   "id": "91c8048e-d35d-4782-8f48-06e2589ffe95",
   "metadata": {},
   "source": [
    "Nous avons créé un graphique statistique en barres qui présente la moyenne des données telles que la puissance, le poids, l'alésage et la course du piston en fonction du type de refroidissement : liquide ou air. Nous avons utilisé un exemple de graphique sur Matplotlib et l'avons modifié pour créer notre propre graphique.\n",
    "\n",
    "**Nous sommes arrivés à la conclusion que les moteurs à refroidissement liquide sont plus performants et plus puissants que ceux à refroidissement par air. Cette conclusion suggère que la méthode de refroidissement est un facteur important à considérer lors du choix d'un moteur pour une application donnée. Les performances et la puissance du moteur peuvent être grandement affectées par le type de refroidissement utilisé.**\n",
    "***"
   ]
  },
  {
   "cell_type": "markdown",
   "id": "ef63f6b4-54a0-4a3e-8663-3fe887e42503",
   "metadata": {},
   "source": [
    "### Graph 3: Pourcentage du type de configurations moteurs (Graphique camembert)"
   ]
  },
  {
   "cell_type": "code",
   "execution_count": null,
   "id": "84de4d15-7352-43fd-acbf-659d2a278e24",
   "metadata": {
    "tags": []
   },
   "outputs": [],
   "source": [
    "# extraire les données de la colonne du dataframe\n",
    "counts = df['Config_Moteurs'].value_counts()\n",
    "total = counts.sum()\n",
    "labels = counts.index.tolist()\n",
    "\n",
    "# définir les seuils pour les valeurs à remplacer\n",
    "threshold = 0.03\n",
    "others = counts[counts/total < threshold]\n",
    "\n",
    "# remplacer les valeurs inférieures à 5% par \"Autre\"\n",
    "counts = counts.drop(others.index)\n",
    "counts['Autre'] = others.sum()\n",
    "\n",
    "# création du graphique\n",
    "fig, ax = plt.subplots()\n",
    "ax.pie(counts, labels=counts.index.tolist(), autopct='%1.1f%%', startangle=90)\n",
    "ax.axis('equal')  # rendre le cercle parfait\n",
    "ax.set_title('Pourcentage de la configurations des moteurs')\n",
    "\n",
    "plt.show()"
   ]
  },
  {
   "cell_type": "markdown",
   "id": "74d50edf-029b-4b61-9f11-de825aee7869",
   "metadata": {},
   "source": [
    "Le graphique en camembert présentant les différentes configurations de moteurs indique que la configuration en V est la plus courante, suivie par la configuration en étoile, puis celle en ligne. \n",
    "\n",
    "**Cette observation suggère que les ingénieurs ont peut-être une préférence pour les moteurs en V en raison de leur puissance et de leurs performances supérieures, tandis que les moteurs en étoile sont peut-être utilisés pour leur fiabilité et leur efficacité en aéronautique, et les moteurs en ligne pour leur configuration plus compacte ou légère.** \n",
    "\n",
    "Cependant, d'autres facteurs tels que le coût, la maintenance et la disponibilité des pièces de rechange peuvent également jouer un rôle dans le choix de la configuration de moteur pour une application donnée.\n",
    "***"
   ]
  },
  {
   "cell_type": "code",
   "execution_count": null,
   "id": "234991b2-0bd0-4d6e-971a-a09f7e08d522",
   "metadata": {
    "tags": []
   },
   "outputs": [],
   "source": [
    "# Conversion de la colonne en matrice 2D\n",
    "z = np.reshape(df['Cylindrées_cm^3'].values, (4, -1))\n",
    "\n",
    "# Création de la figure et des axes\n",
    "fig = plt.figure()\n",
    "ax = fig.add_subplot(111, projection='3d')\n",
    "\n",
    "# Tracé du graphique 3d\n",
    "surf = ax.plot_surface(df['Alesage_mm'].values.reshape((4, -1)), \n",
    "                df['Course_Piston_mm'].values.reshape((4, -1)), \n",
    "                z, cmap=cm.coolwarm,\n",
    "                linewidth=0, antialiased=False)\n",
    "\n",
    "fig.colorbar(surf, shrink=0.5, aspect=6)\n",
    "\n",
    "# Configuration de l'affichage\n",
    "ax.set_xlabel('Alesage (mm)')\n",
    "ax.set_ylabel('Course piston (mm)')\n",
    "ax.set_title('Graph 3d Alésage, Course Piston suivant la cylindrées')\n",
    "\n",
    "plt.show()"
   ]
  },
  {
   "cell_type": "markdown",
   "id": "a0f7106b-9393-4126-8695-40077f264d96",
   "metadata": {},
   "source": [
    "Ce graphique a été crée pour mettre en évidence la corrélation entre la cylindrée d'un moteur et deux de ses paramètres clés: l'alésage et la course piston. L'alésage représente le diamètre de la surface intérieure du cylindre où se déplace le piston, tandis que la course piston correspond à la distance parcourue par le piston lors d'un cycle du moteur.\n",
    "\n",
    "En jouant sur l'alésage et/ou la course piston, la cylindrée du moteur peut être modifiée, ce qui a pour effet d'influer sur sa puissance. Toutefois, pour obtenir des performances optimales pour une application spécifique, il est nécessaire de trouver le bon équilibre entre ces trois facteurs.\n",
    "\n",
    "Le graphique présente les données de l'alésage et de la course piston en fonction de la cylindrée. On peut constater qu'une augmentation de la cylindrée se traduit généralement par une augmentation de l'alésage et de la course piston.\n",
    "\n",
    "**En résumé, l'alésage et la course piston sont des éléments clés qui ont une influence significative sur la cylindrée et la puissance d'un moteur. Les ingénieurs et concepteurs de moteurs doivent donc trouver le bon équilibre entre ces facteurs pour atteindre les performances optimales pour une application spécifique.**"
   ]
  },
  {
   "cell_type": "markdown",
   "id": "1ce425cb-056c-495b-ac3a-8ec1f2db77e4",
   "metadata": {},
   "source": [
    "***\n",
    "# Conclusion\n",
    "***"
   ]
  },
  {
   "cell_type": "markdown",
   "id": "efc7f121-2376-4993-863e-1079cd8325b2",
   "metadata": {},
   "source": [
    "**En conclusion, l'analyse du tableau des moteurs à piston a révélé des corrélations significatives entre la puissance et plusieurs variables clés telles que la cylindrée, le poids, le nombre de cylindres et le taux de compression. Il a également été identifié que le type de refroidissement est un facteur important pour la performance et la puissance du moteur. La configuration en V est la plus répandue, suivie par la configuration en étoile, puis celle en ligne. Enfin, l'alésage et la course piston ont été identifiés comme des éléments clés qui ont une influence significative sur la cylindrée et la puissance d'un moteur. Les ingénieurs doivent trouver le juste équilibre entre ces facteurs pour obtenir des performances optimales pour une application donnée. En somme, l'analyse des moteurs à piston souligne l'importance de la conception de ces mécanismes pour garantir leur efficacité et leur performance.**\n",
    "***"
   ]
  },
  {
   "cell_type": "markdown",
   "id": "6c62b9f6-aa69-4d86-8cb5-c02c158ca5ba",
   "metadata": {
    "tags": []
   },
   "source": [
    "# Ressources et erreurs rencontrées\n",
    "***"
   ]
  },
  {
   "cell_type": "markdown",
   "id": "ec826344-caac-4466-8320-246bf5bef68c",
   "metadata": {
    "tags": []
   },
   "source": [
    "Pour ce projet, nous avons utilisé le cours d'informatique disponible sur Moodle, ainsi que des exemples de graphiques provenant du site de Matplotlib, notamment pour les graphiques 2 et 4. Nous avons également consulté Internet, YouTube et Chat GPT pour les fonctions que nous ne savions pas créer avec les autres ressources.\n",
    "\n",
    "Cependant, nous avons rencontré de nombreuses erreurs, notamment lors de la conversion entre les données du tableau et les interprétations dans les graphiques, ainsi que lors de l'installation de toutes les ressources sur Git Bash et de l'utilisation de GitHub, etc.\n",
    "Nous n'avons pas pu créer de graphique isoline car pour nous le sujet n'est pas fait pour créer ce type de graphique.\n",
    "Nous avons aussi eu des difficultés sur la compréhension du sujet, notamment pour la traduction de termes spécifiques en mécanique qui sont très difficiles à traduire.\n",
    "\n",
    "Malgré ces difficultés, nous avons particulièrement apprécié ce projet, car il nous a permis d'approfondir considérablement nos connaissances en matière de science des données.\n",
    "\n",
    "**Voici le liens des ressources:**    \n",
    ">[Projet sur github](https://github.com/Paulciapello/Projet_Info_L2.git) (Ne vous fiez pas à la date des commits sur GitHub le projet a été réfléchi est créé dès le départ de l'affectation des projets, mais le repository a été créé bien plus tard)   \n",
    ">[Exemples Matplotlib](https://matplotlib.org/3.1.0/gallery/index.html) (Graph 2 et 4)  \n",
    ">[Cours Moodle](https://moodle.univ-tlse3.fr/pluginfile.php/662236/mod_resource/content/11/co/CourbeTendance.html)\n",
    "\n",
    "Si vous rencontrez des problèmes d'interprétation, d'implémentation ou de compréhension, contactez-nous directement sur GitHub ou par e-mail à l'adresse suivante : paul.chiapello@univ-tlse3.fr\n"
   ]
  }
 ],
 "metadata": {
  "kernelspec": {
   "display_name": "Python 3 (ipykernel)",
   "language": "python",
   "name": "python3"
  },
  "language_info": {
   "codemirror_mode": {
    "name": "ipython",
    "version": 3
   },
   "file_extension": ".py",
   "mimetype": "text/x-python",
   "name": "python",
   "nbconvert_exporter": "python",
   "pygments_lexer": "ipython3",
   "version": "3.11.2"
  }
 },
 "nbformat": 4,
 "nbformat_minor": 5
}
