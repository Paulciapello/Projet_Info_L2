{
 "cells": [
  {
   "cell_type": "code",
   "execution_count": 1,
   "id": "365bf99a-54d3-472d-971c-1ab477f197d2",
   "metadata": {
    "tags": []
   },
   "outputs": [],
   "source": [
    "import pandas as pd"
   ]
  },
  {
   "cell_type": "code",
   "execution_count": 2,
   "id": "9113419c-8305-430d-ada2-44ed19f0e0bc",
   "metadata": {
    "tags": []
   },
   "outputs": [],
   "source": [
    "data = pd.read_excel('Engine.xls')"
   ]
  },
  {
   "cell_type": "code",
   "execution_count": 3,
   "id": "87242ed1-f05f-4b04-9939-de81d350dcbd",
   "metadata": {
    "tags": []
   },
   "outputs": [
    {
     "name": "stdout",
     "output_type": "stream",
     "text": [
      "     U.S. Military Aircraft Piston Engines 1908 to Present        Unnamed: 1  \\\n",
      "0                                                   NaN                  NaN   \n",
      "1                                                   NaN                  NaN   \n",
      "2                                                  Type         Manufacturer   \n",
      "3                                Undesignated 1908-1924                  NaN   \n",
      "4                                                   NaN                  NaN   \n",
      "...                                                 ...                  ...   \n",
      "2120                                             50-499               Warner   \n",
      "2121                                               T-14               Wright   \n",
      "2122                                              WM-80     Wright-Morehouse   \n",
      "2123                                                NaN                  NaN   \n",
      "2124                                        RMF 10/4/10                  NaN   \n",
      "\n",
      "     Unnamed: 2 Unnamed: 3  Unnamed: 4 Unnamed: 5 Unnamed: 6 Unnamed: 7  \\\n",
      "0           NaN        NaN         NaN        NaN        NaN        NaN   \n",
      "1         Dates        NaN  Production        NaN        NaN        NaN   \n",
      "2       Ordered  Delivered   Delivered   Modified  Cancelled       Test   \n",
      "3           NaN        NaN         NaN        NaN        NaN        NaN   \n",
      "4           NaN        NaN         NaN        NaN        NaN        NaN   \n",
      "...         ...        ...         ...        ...        ...        ...   \n",
      "2120        NaN        NaN         NaN        NaN        NaN        NaN   \n",
      "2121         39        NaN           2        NaN          2        NaN   \n",
      "2122        NaN        NaN         NaN        NaN        NaN        NaN   \n",
      "2123        NaN      Total      481152      11244      59687          2   \n",
      "2124        NaN        NaN         NaN        NaN        NaN        NaN   \n",
      "\n",
      "              Unnamed: 8 Unnamed: 9  ... Unnamed: 31 Unnamed: 32 Unnamed: 33  \\\n",
      "0                    NaN        NaN  ...         NaN         NaN         NaN   \n",
      "1                    NaN        NaN  ...         NaN         NaN         NaN   \n",
      "2     Manufacturer Model       Bore  ...         NaN         NaN         NaN   \n",
      "3                    NaN        NaN  ...         NaN         NaN         NaN   \n",
      "4                    NaN        NaN  ...         NaN         NaN         NaN   \n",
      "...                  ...        ...  ...         ...         ...         ...   \n",
      "2120                 NaN      4.625  ...         NaN         NaN         NaN   \n",
      "2121        Tornado T-14       4.25  ...         NaN         NaN         NaN   \n",
      "2122                 NaN       3.75  ...         NaN         NaN         NaN   \n",
      "2123                 NaN        NaN  ...         NaN         NaN         NaN   \n",
      "2124                 NaN        NaN  ...         NaN         NaN         NaN   \n",
      "\n",
      "     Unnamed: 34 Unnamed: 35 Unnamed: 36 Unnamed: 37 Unnamed: 38 Unnamed: 39  \\\n",
      "0            NaN         NaN         NaN         NaN         NaN         NaN   \n",
      "1            NaN         NaN         NaN         NaN         NaN         NaN   \n",
      "2            NaN         NaN         NaN         NaN         NaN         NaN   \n",
      "3            NaN         NaN         NaN         NaN         NaN         NaN   \n",
      "4            NaN         NaN         NaN         NaN         NaN         NaN   \n",
      "...          ...         ...         ...         ...         ...         ...   \n",
      "2120         NaN         NaN         NaN         NaN         NaN         NaN   \n",
      "2121         NaN         NaN         NaN         NaN         NaN         NaN   \n",
      "2122         NaN         NaN         NaN         NaN         NaN         NaN   \n",
      "2123         NaN         NaN         NaN         NaN         NaN         NaN   \n",
      "2124         NaN         NaN         NaN         NaN         NaN         NaN   \n",
      "\n",
      "     Unnamed: 40  \n",
      "0            NaN  \n",
      "1            NaN  \n",
      "2            NaN  \n",
      "3            NaN  \n",
      "4            NaN  \n",
      "...          ...  \n",
      "2120         NaN  \n",
      "2121         NaN  \n",
      "2122         NaN  \n",
      "2123         NaN  \n",
      "2124         NaN  \n",
      "\n",
      "[2125 rows x 41 columns]\n"
     ]
    }
   ],
   "source": [
    "print(data)"
   ]
  },
  {
   "cell_type": "code",
   "execution_count": null,
   "id": "1c60d890-f3a2-4c87-8c62-0ae7429c13b5",
   "metadata": {},
   "outputs": [],
   "source": []
  }
 ],
 "metadata": {
  "kernelspec": {
   "display_name": "Python 3 (ipykernel)",
   "language": "python",
   "name": "python3"
  },
  "language_info": {
   "codemirror_mode": {
    "name": "ipython",
    "version": 3
   },
   "file_extension": ".py",
   "mimetype": "text/x-python",
   "name": "python",
   "nbconvert_exporter": "python",
   "pygments_lexer": "ipython3",
   "version": "3.11.2"
  }
 },
 "nbformat": 4,
 "nbformat_minor": 5
}
